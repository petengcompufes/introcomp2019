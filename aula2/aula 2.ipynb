{
 "cells": [
  {
   "cell_type": "markdown",
   "metadata": {},
   "source": [
    "# Aula 02: Entrada, Saídas, variáveis e tipos de dados\n",
    "\n",
    "## O que vamos aprender nessa aula:\n",
    "    1. O que são e como criar variáveis em python\n",
    "    2. Como atribuir valores a essas variáveis\n",
    "    3. Quais são os tipos de dados que podemos salvar em uma variável\n",
    "    4. Operações simples com numeros\n",
    "    5. Como fazer o computador nos enviar informações (saída)\n",
    "    6. Como enviar informações ao computador (entrada)\n"
   ]
  },
  {
   "cell_type": "markdown",
   "metadata": {},
   "source": [
    "### 1. O que são e como criar variáveis em python\n",
    "\n",
    "Variáveis são espaços na memória destinados a armazenar informações que serão utilizadas no futuro\n",
    "\n",
    "Em pseudocódigo, utilizamos:<br>\n",
    "x <- 35<br>\n",
    "palavra <- pizza<br>\n",
    "\n",
    "As variáveis podem ter qualquer nome, respeitando algumas regras:\n",
    "    1. O primeiro caracter precisa ser uma letra (A-Z, a-z) ou um underscore ( _ )\n",
    "    2. Os demais caracteres podem ser letras, numeros ou underscore\n",
    "    \n",
    "Além disso, existem algumas palavras reservadas na linguagem que não podem ser utilizadas como variáveis, apesar de respeitarem as regras acima. Algumas dessas palavras são: True, False, continue, and, None, etc.\n",
    " \n",
    "\n",
    "### 2. Como atribuir valores a essas variáveis\n",
    "\n",
    "Em Python, podemos fazer o mesmo das linhas acima escrevendo:<br>\n",
    "\n",
    "`x = 35`<br>\n",
    "`palavra = 'pizza'`<br>"
   ]
  },
  {
   "cell_type": "code",
   "execution_count": 3,
   "metadata": {},
   "outputs": [],
   "source": [
    "x = 'estou testando uma frase em python'\n",
    "#fazer varios exemplos"
   ]
  },
  {
   "cell_type": "code",
   "execution_count": 4,
   "metadata": {},
   "outputs": [
    {
     "data": {
      "text/plain": [
       "'estou testando uma frase em python'"
      ]
     },
     "execution_count": 4,
     "metadata": {},
     "output_type": "execute_result"
    }
   ],
   "source": [
    "x"
   ]
  },
  {
   "cell_type": "markdown",
   "metadata": {},
   "source": [
    "### 3. Quais são os tipos de dados que podemos salvar em uma variável\n",
    "\n",
    "Em Python, podemos salvar diversos tipos diferentes de informações em uma variável. Dentre esses tipos, temos:<br>\n",
    "<br>\n",
    "    1. Números inteiros (100, 4004, 7, 13)\n",
    "    2. Números ponto flutuante, ou \"float\" (40.35; 2.50; 120.75434)\n",
    "    3. Strings ('Essa é uma string bem legal', 'Eu adoro assistir as aulas do Introcomp')\n",
    "    4. Booleanos (True ou False)\n",
    "    "
   ]
  },
  {
   "cell_type": "code",
   "execution_count": 27,
   "metadata": {},
   "outputs": [
    {
     "data": {
      "text/plain": [
       "int"
      ]
     },
     "execution_count": 27,
     "metadata": {},
     "output_type": "execute_result"
    }
   ],
   "source": [
    "type(100)\n",
    "#testar outros tipos de variáveis aqui"
   ]
  },
  {
   "cell_type": "markdown",
   "metadata": {},
   "source": [
    "### 4. Operações simples com números\n",
    "\n",
    "Em Python, é muito comum precisarmos fazer operações matemáticas. A seguir teremos alguns exemplos de como fazer cada operação:<br>"
   ]
  },
  {
   "cell_type": "code",
   "execution_count": 18,
   "metadata": {},
   "outputs": [
    {
     "data": {
      "text/plain": [
       "67"
      ]
     },
     "execution_count": 18,
     "metadata": {},
     "output_type": "execute_result"
    }
   ],
   "source": [
    "#isso é uma soma\n",
    "40 + 27"
   ]
  },
  {
   "cell_type": "code",
   "execution_count": 19,
   "metadata": {},
   "outputs": [
    {
     "data": {
      "text/plain": [
       "290"
      ]
     },
     "execution_count": 19,
     "metadata": {},
     "output_type": "execute_result"
    }
   ],
   "source": [
    "#isso é uma subtração\n",
    "400 - 110"
   ]
  },
  {
   "cell_type": "code",
   "execution_count": 20,
   "metadata": {},
   "outputs": [
    {
     "data": {
      "text/plain": [
       "48"
      ]
     },
     "execution_count": 20,
     "metadata": {},
     "output_type": "execute_result"
    }
   ],
   "source": [
    "#isso é uma multiplicação\n",
    "12*4"
   ]
  },
  {
   "cell_type": "code",
   "execution_count": 21,
   "metadata": {},
   "outputs": [
    {
     "data": {
      "text/plain": [
       "4.0"
      ]
     },
     "execution_count": 21,
     "metadata": {},
     "output_type": "execute_result"
    }
   ],
   "source": [
    "#isso é uma divisão\n",
    "60/15"
   ]
  },
  {
   "cell_type": "code",
   "execution_count": 140,
   "metadata": {},
   "outputs": [
    {
     "data": {
      "text/plain": [
       "125.0"
      ]
     },
     "execution_count": 140,
     "metadata": {},
     "output_type": "execute_result"
    }
   ],
   "source": [
    "#isso é uma potenciação\n",
    "5**3\n",
    "#pode-se também calcular uma potenciação assim\n",
    "pow(5,3)"
   ]
  },
  {
   "cell_type": "code",
   "execution_count": 141,
   "metadata": {},
   "outputs": [
    {
     "data": {
      "text/plain": [
       "11.0"
      ]
     },
     "execution_count": 141,
     "metadata": {},
     "output_type": "execute_result"
    }
   ],
   "source": [
    "from math import *\n",
    "#isso é uma radiciação\n",
    "121**0.5\n",
    "#pode-se também calcular uma raiz quadrada assim\n",
    "sqrt(121)"
   ]
  },
  {
   "cell_type": "code",
   "execution_count": 142,
   "metadata": {},
   "outputs": [],
   "source": [
    "\n",
    "#faça uma operação com pelo menos\n",
    "# 1 adição ou subtração\n",
    "# 1 multiplicação ou divisão\n",
    "# 1 potenciação ou radiciação\n",
    "# cujo resultado seja 360"
   ]
  },
  {
   "cell_type": "markdown",
   "metadata": {},
   "source": [
    "### 5. Como fazer o computador nos enviar informações (saída)\n",
    "\n",
    "Existem diversas maneiras de se imprimir na saída padrão as informações que você precisa. Ao contrário do Jupyter, consoles e outros programas nem sempre imprimirão valores de variáveis. Além disso, as vezes gostaríamos de imprimir valores de variáveis no meio de frases ou com formatações específicas. Para isso, utilizamos o comando `print()` \n"
   ]
  },
  {
   "cell_type": "code",
   "execution_count": 143,
   "metadata": {},
   "outputs": [],
   "source": [
    "cafe_da_manha = \"pão com nutella e suco\""
   ]
  },
  {
   "cell_type": "code",
   "execution_count": 144,
   "metadata": {},
   "outputs": [
    {
     "name": "stdout",
     "output_type": "stream",
     "text": [
      "quero pão com nutella e suco no café da manhã\n"
     ]
    }
   ],
   "source": [
    "print( \"quero \" + cafe_da_manha + \" no café da manhã\")"
   ]
  },
  {
   "cell_type": "code",
   "execution_count": 145,
   "metadata": {},
   "outputs": [
    {
     "name": "stdout",
     "output_type": "stream",
     "text": [
      "No café da manhã eu comi pão com nutella e suco\n"
     ]
    }
   ],
   "source": [
    "print(\"No café da manhã eu comi\", cafe_da_manha, sep=\" \")"
   ]
  },
  {
   "cell_type": "code",
   "execution_count": 153,
   "metadata": {},
   "outputs": [
    {
     "name": "stdout",
     "output_type": "stream",
     "text": [
      "a = 30\n",
      "b = 23.70\n"
     ]
    }
   ],
   "source": [
    "a = 30\n",
    "b = 23.70\n",
    "print(\"a = %d\" %(a))\n",
    "print(\"b = %.2f\" %(b))"
   ]
  },
  {
   "cell_type": "code",
   "execution_count": 154,
   "metadata": {},
   "outputs": [],
   "source": [
    "#Crie duas variáveis e imprima as duas em um único print\n"
   ]
  },
  {
   "cell_type": "markdown",
   "metadata": {},
   "source": [
    "### 6. Como enviar informações ao computador (entrada)\n",
    "Imagine que você fez um programa em python que calcule a raiz quadrada da soma de dois números. Agora, imagine que sempre que você quiser utilizar esse programa você tenha que abrir o arquivo em que ele está escrito e modificar os valores das variáveis. Por sorte, existe uma maneira mais fácil de isso: utilizando Inputs!"
   ]
  },
  {
   "cell_type": "code",
   "execution_count": 155,
   "metadata": {},
   "outputs": [
    {
     "name": "stdout",
     "output_type": "stream",
     "text": [
      "Entre com uma frase: jfeoijrewoirejr\n"
     ]
    }
   ],
   "source": [
    "x = input(\"Entre com uma frase: \")"
   ]
  },
  {
   "cell_type": "code",
   "execution_count": 157,
   "metadata": {},
   "outputs": [
    {
     "name": "stdout",
     "output_type": "stream",
     "text": [
      "A frase \"jfeoijrewoirejr\" não faz sentido!\n"
     ]
    }
   ],
   "source": [
    "print(\"A frase \\\"%s\\\" não faz sentido!\" %(x))"
   ]
  },
  {
   "cell_type": "markdown",
   "metadata": {},
   "source": [
    "Repare que um input naturalmente cria uma string.\n",
    "Para armazenar um inteiro ou um float, utilizamos `int(input())` e `float(input())` respectivamente"
   ]
  },
  {
   "cell_type": "code",
   "execution_count": 177,
   "metadata": {},
   "outputs": [
    {
     "name": "stdout",
     "output_type": "stream",
     "text": [
      "entre com um número inteiro: 3493\n",
      "entre com um número real: 3\n",
      "O número inteiro é 3493.\n",
      "O número real é 3.00\n",
      "e o resultado de 3493/3.00 é 1164.33\n"
     ]
    }
   ],
   "source": [
    "a = int(input(\"entre com um número inteiro: \"))\n",
    "b = float(input(\"entre com um número real: \"))\n",
    "print(\"O número inteiro é %d.\\nO número real é %.2f\\ne o resultado de %d/%.2f é %.2f\" %(a, b, a, b, (a/b)))"
   ]
  },
  {
   "cell_type": "code",
   "execution_count": null,
   "metadata": {},
   "outputs": [],
   "source": []
  }
 ],
 "metadata": {
  "kernelspec": {
   "display_name": "Python 3",
   "language": "python",
   "name": "python3"
  },
  "language_info": {
   "codemirror_mode": {
    "name": "ipython",
    "version": 3
   },
   "file_extension": ".py",
   "mimetype": "text/x-python",
   "name": "python",
   "nbconvert_exporter": "python",
   "pygments_lexer": "ipython3",
   "version": "3.6.7"
  }
 },
 "nbformat": 4,
 "nbformat_minor": 2
}
